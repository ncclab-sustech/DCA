{
 "cells": [
  {
   "cell_type": "markdown",
   "id": "71ead501",
   "metadata": {},
   "source": [
    "This notebook demonstrates how to run AtlaScore downstream tasks on the proposed **DCA100 atlas**.\n",
    "\n",
    "For DCA100, we provide precomputed functional connectivity (FC) features required to run the downstream evaluations. You can directly execute the section *run AtlaScore downstream tasks* to evaluate the performance of DCA100.\n",
    "\n",
    "For other atlases, you will need to first download the required NIfTI data, extract the region-wise time series, and compute FC features. These steps are provided in the *get nii data* and *get FC data* sections.\n",
    "\n",
    "Note: Preprocessed data from the ADNI dataset will be shared via OneDrive after the paper is accepted. The corresponding download link and notebook updates will be made available at that time. Until then, attempting to run `get_fc_ADNI` or `AD_diagnosis` for other atlases will result in errors (as the required data is not yet accessible)."
   ]
  },
  {
   "cell_type": "code",
   "execution_count": 1,
   "id": "cb56d181",
   "metadata": {},
   "outputs": [],
   "source": [
    "import numpy as np\n",
    "import downstream\n",
    "import zipfile"
   ]
  },
  {
   "cell_type": "markdown",
   "id": "79e7c8c5",
   "metadata": {},
   "source": [
    "#### get nii data"
   ]
  },
  {
   "cell_type": "markdown",
   "id": "3eda46a0",
   "metadata": {},
   "source": [
    "##### HCP"
   ]
  },
  {
   "cell_type": "markdown",
   "id": "785975f0",
   "metadata": {},
   "source": [
    "To access and download Human Connectome Project (HCP) data locally for use with AtlaScore, you must first obtain the necessary credentials. Visit the official HCP website at [https://db.humanconnectome.org](https://db.humanconnectome.org), create an account, and request data access. Once your request is approved, you will be able to retrieve your `access_key` and `secret_key` from your account.\n",
    "\n",
    "These credentials are required to authenticate and download data using the provided scripts. Please insert your keys into the corresponding variables in the notebook.\n",
    "\n",
    "Downloading the required HCP data typically takes around 15 hours and requires over 500 GB of disk space."
   ]
  },
  {
   "cell_type": "code",
   "execution_count": null,
   "id": "5d2cd2d1",
   "metadata": {},
   "outputs": [],
   "source": [
    "# access_key = 'your_access_key'\n",
    "# secret_key = 'your_secret_key'\n",
    "\n",
    "# for subj in np.loadtxt('./docs/HCP_subjlist.txt', dtype = str):\n",
    "\n",
    "#     downstream.get_sub_HCP_rfMRI(subject = subj, access_key = access_key, secret_key = secret_key)\n",
    "#     downstream.get_sub_HCP_tfMRI(subject = subj, access_key = access_key, secret_key = secret_key)"
   ]
  },
  {
   "cell_type": "markdown",
   "id": "13c96145",
   "metadata": {},
   "source": [
    "##### ABIDE"
   ]
  },
  {
   "cell_type": "markdown",
   "id": "375a6ff8",
   "metadata": {},
   "source": [
    "To use the ABIDE dataset for functional connectivity analysis, you will need to download the preprocessed data. The dataset includes resting-state fMRI scans from multiple sites and subjects.\n",
    "\n",
    "Please note that downloading the full ABIDE dataset may take up to 9 hours and requires approximately 90 GB of disk space. Make sure you have sufficient bandwidth and storage before starting the download."
   ]
  },
  {
   "cell_type": "code",
   "execution_count": null,
   "id": "2924faf6",
   "metadata": {},
   "outputs": [],
   "source": [
    "# downstream.get_ABIDE()"
   ]
  },
  {
   "cell_type": "markdown",
   "id": "fe6a85a6",
   "metadata": {},
   "source": [
    "##### ADNI"
   ]
  },
  {
   "cell_type": "markdown",
   "id": "8a427acd",
   "metadata": {},
   "source": [
    "The ADNI dataset contains multimodal neuroimaging data, including structural and functional MRI. For our analysis, we used preprocessed data derived from ADNI scans.\n",
    "\n",
    "The total size of the processed dataset is approximately 70 GB. This preprocessed version will be made available for download via OneDrive after the paper is accepted for publication."
   ]
  },
  {
   "cell_type": "markdown",
   "id": "df3d8336",
   "metadata": {},
   "source": [
    "#### get FC data"
   ]
  },
  {
   "cell_type": "markdown",
   "id": "c12ae2e8",
   "metadata": {},
   "source": [
    "##### HCP"
   ]
  },
  {
   "cell_type": "markdown",
   "id": "45082e6b",
   "metadata": {},
   "source": [
    "To run the analysis on your own atlas, please modify the `atlas_name` and `atlas_loc` arguments in the corresponding functions."
   ]
  },
  {
   "cell_type": "code",
   "execution_count": null,
   "id": "051d4cbb",
   "metadata": {},
   "outputs": [],
   "source": [
    "# for subj in np.loadtxt('./docs/HCP_subjlist.txt', dtype = str):\n",
    "\n",
    "#     downstream.get_fc_HCP_rfMRI(subject = subj, atlas_name = 'DCA100', atlas_loc = './docs/DCA100.nii.gz')\n",
    "#     downstream.get_fc_HCP_tfMRI(subject = subj, atlas_name = 'DCA100', atlas_loc = './docs/DCA100.nii.gz')"
   ]
  },
  {
   "cell_type": "markdown",
   "id": "5f831e97",
   "metadata": {},
   "source": [
    "##### ABIDE"
   ]
  },
  {
   "cell_type": "markdown",
   "id": "156aeebf",
   "metadata": {},
   "source": [
    "To run the analysis on your own atlas, please modify the `atlas_name` and `atlas_loc` arguments in the corresponding functions."
   ]
  },
  {
   "cell_type": "code",
   "execution_count": null,
   "id": "b568852b",
   "metadata": {},
   "outputs": [],
   "source": [
    "# downstream.get_fc_ABIDE(atlas_name = 'DCA100', atlas_loc = './docs/DCA100.nii.gz')"
   ]
  },
  {
   "cell_type": "markdown",
   "id": "0b5eeb0c",
   "metadata": {},
   "source": [
    "##### ADNI"
   ]
  },
  {
   "cell_type": "markdown",
   "id": "021a9c9c",
   "metadata": {},
   "source": [
    "To run the analysis on your own atlas, please modify the `atlas_name` and `atlas_loc` arguments in the corresponding functions."
   ]
  },
  {
   "cell_type": "code",
   "execution_count": null,
   "id": "4cf92856",
   "metadata": {},
   "outputs": [],
   "source": [
    "# downstream.get_fc_ADNI(atlas_name = 'DCA100', atlas_loc = './docs/DCA100.nii.gz')"
   ]
  },
  {
   "cell_type": "markdown",
   "id": "b4faef6a",
   "metadata": {},
   "source": [
    "#### run AtlaScore downstream tasks"
   ]
  },
  {
   "cell_type": "code",
   "execution_count": 2,
   "id": "835bd40c",
   "metadata": {},
   "outputs": [
    {
     "name": "stdout",
     "output_type": "stream",
     "text": [
      "--- DCA100 downstream report ---\n",
      "Gender classification: 0.666±0.080\n",
      "Fluid intelligence: 0.491±0.082\n",
      "Cognitive task (7-way): 0.869±0.062\n",
      "Cognitive task (24-way): 0.452±0.030\n",
      "Autism diagnosis: 0.655±0.054\n",
      "AD diagnosis: 0.387±0.077\n",
      "FC stability: 0.650±0.045\n",
      "Fingerprinting: 0.696±0.201\n",
      "Age group classification: 0.452±0.136\n",
      "Crystallized intelligence: 0.472±0.095\n",
      "General intelligence: 0.442±0.104\n",
      "Autism cross-site: 0.662±0.068\n"
     ]
    }
   ],
   "source": [
    "with zipfile.ZipFile('./fc_data/fc_data.zip', 'r') as zip_file: zip_file.extractall('./fc_data/')\n",
    "downstream.downstream_all(atlas_name = 'DCA100')"
   ]
  }
 ],
 "metadata": {
  "kernelspec": {
   "display_name": "connectome",
   "language": "python",
   "name": "python3"
  },
  "language_info": {
   "codemirror_mode": {
    "name": "ipython",
    "version": 3
   },
   "file_extension": ".py",
   "mimetype": "text/x-python",
   "name": "python",
   "nbconvert_exporter": "python",
   "pygments_lexer": "ipython3",
   "version": "3.12.2"
  }
 },
 "nbformat": 4,
 "nbformat_minor": 5
}
