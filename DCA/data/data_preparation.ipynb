{
 "cells": [
  {
   "cell_type": "code",
   "execution_count": 1,
   "id": "e38996d5",
   "metadata": {},
   "outputs": [],
   "source": [
    "import numpy as np\n",
    "import nibabel as nib\n",
    "from nibabel.processing import resample_from_to"
   ]
  },
  {
   "cell_type": "code",
   "execution_count": 2,
   "id": "ac2a1dd8",
   "metadata": {},
   "outputs": [],
   "source": [
    "affine_target = np.array([\n",
    "    [-2,  0,  0,   96], \n",
    "    [ 0,  2,  0, -112],\n",
    "    [ 0,  0,  2,  -90],\n",
    "    [ 0,  0,  0,    1]\n",
    "])"
   ]
  },
  {
   "cell_type": "markdown",
   "id": "eee0a15e",
   "metadata": {},
   "source": [
    "##### prepare fmri data"
   ]
  },
  {
   "cell_type": "code",
   "execution_count": null,
   "id": "e1da73fd",
   "metadata": {},
   "outputs": [],
   "source": [
    "fmri_img = nib.load('./MNI152_fmri_data.nii.gz') # TBD\n",
    "\n",
    "fmri_data = fmri_img.get_fdata(); affine = fmri_img.affine; header = fmri_img.header.copy()\n",
    "fmri_cropped = fmri_data[..., :300]; header.set_data_shape(fmri_cropped.shape); cropped_img = nib.Nifti1Image(fmri_cropped, affine, header)\n",
    "resampled_fmri = resample_from_to(cropped_img, ((96, 96, 96, 300), affine_target), order = 3) # if fmri data has 2mm isotropic spatial resolution, use order = 0 for quicker resampling\n",
    "\n",
    "nib.save(resampled_fmri, './prepared_rfmri_data.nii.gz') # TBD"
   ]
  },
  {
   "cell_type": "markdown",
   "id": "c54ff8b2",
   "metadata": {},
   "source": [
    "##### prepare tissue mask"
   ]
  },
  {
   "cell_type": "code",
   "execution_count": null,
   "id": "795e404d",
   "metadata": {},
   "outputs": [],
   "source": [
    "aseg_img = nib.load('./MNI152_aparc+aseg.nii.gz') # TBD\n",
    "aseg_data = aseg_img.get_fdata()\n",
    "\n",
    "res = np.zeros_like(aseg_data)\n",
    "res += 1 * ((aseg_data >= 1000) & (aseg_data <= 1035)).astype(int); res += 11 * ((aseg_data >= 2000) & (aseg_data <= 2035)).astype(int)\n",
    "res += 2 * (aseg_data == 2).astype(int); res += 12 * (aseg_data == 41).astype(int)\n",
    "for i in [10, 11, 12, 13, 17, 18, 26, 27, 28, 75, 96]: res += 3 * (aseg_data == i).astype(int)\n",
    "for i in [49, 50, 51, 52, 53, 54, 58, 59, 60, 76, 97]: res += 13 * (aseg_data == i).astype(int)\n",
    "res += 20 * ((aseg_data >= 251) & (aseg_data <= 255)).astype(int)\n",
    "\n",
    "new_img = nib.Nifti1Image(res, affine = aseg_img.affine)\n",
    "resampled_img = resample_from_to(new_img, ((96, 96, 96), affine_target), order = 0)\n",
    "\n",
    "nib.save(resampled_img, './prepared_tissue_mask.nii.gz') # TBD"
   ]
  }
 ],
 "metadata": {
  "kernelspec": {
   "display_name": "connectome",
   "language": "python",
   "name": "python3"
  },
  "language_info": {
   "codemirror_mode": {
    "name": "ipython",
    "version": 3
   },
   "file_extension": ".py",
   "mimetype": "text/x-python",
   "name": "python",
   "nbconvert_exporter": "python",
   "pygments_lexer": "ipython3",
   "version": "3.12.2"
  }
 },
 "nbformat": 4,
 "nbformat_minor": 5
}
